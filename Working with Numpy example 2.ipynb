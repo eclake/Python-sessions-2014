{
 "metadata": {
  "name": "Working with Numpy example 2"
 },
 "nbformat": 3,
 "nbformat_minor": 0,
 "worksheets": [
  {
   "cells": [
    {
     "cell_type": "markdown",
     "metadata": {},
     "source": [
      "#Working with Numpy - a catalogue example"
     ]
    },
    {
     "cell_type": "markdown",
     "metadata": {},
     "source": [
      "This is the same as the previous example but now we will use functions that we have stored in a .py file."
     ]
    },
    {
     "cell_type": "code",
     "collapsed": false,
     "input": [
      "#Whenever running an ipython notebook you need to run this command either at the beginning of your notebook or from the command\n",
      "#line when you open up ipython notebook (> ipython notebook --pylab inline).\n",
      "\n",
      "%pylab inline"
     ],
     "language": "python",
     "metadata": {},
     "outputs": []
    },
    {
     "cell_type": "code",
     "collapsed": false,
     "input": [
      "import numpy as np"
     ],
     "language": "python",
     "metadata": {},
     "outputs": []
    },
    {
     "cell_type": "code",
     "collapsed": false,
     "input": [
      "data=np.genfromtxt('CANDELS.GOODSS.F160W.v1_1.photom.cat', dtype=None, names=True)"
     ],
     "language": "python",
     "metadata": {},
     "outputs": []
    },
    {
     "cell_type": "markdown",
     "metadata": {},
     "source": [
      "The two conversion functions are stored in FluxMagConversions.py in the same directory.  \n",
      "\n",
      "If you wanted to store them in a different directory you can append that directory to the path using:\n",
      "\n",
      "> import sys   \n",
      "> sys.path.append(\"/Path/To/Useful/Python/Files\")  "
     ]
    },
    {
     "cell_type": "code",
     "collapsed": false,
     "input": [
      "import FluxMagConversions as fc"
     ],
     "language": "python",
     "metadata": {},
     "outputs": []
    },
    {
     "cell_type": "code",
     "collapsed": false,
     "input": [
      "import re"
     ],
     "language": "python",
     "metadata": {},
     "outputs": []
    },
    {
     "cell_type": "code",
     "collapsed": false,
     "input": [
      "dataMags=np.array(data)\n",
      "\n",
      "for name in dataMags.dtype.names:\n",
      "    match = re.search(\"FLUX\",name)\n",
      "    if match:\n",
      "        matchErr = re.search(\"ERR\",name)\n",
      "        if matchErr:\n",
      "            fluxName = name.replace(\"ERR\",\"\")\n",
      "            dataMags[name] = fc.ConvertErrMicroJyToAbMag(data[name],data[fluxName]) # now when we call the functions we need to\n",
      "                                                                                    # specify their package as fc\n",
      "        else:\n",
      "            dataMags[name] = fc.ConvertMicroJyToAbMag(data[name])\n",
      "        \n",
      "    "
     ],
     "language": "python",
     "metadata": {},
     "outputs": []
    },
    {
     "cell_type": "code",
     "collapsed": false,
     "input": [
      "print data['ACS_F814W_FLUX'][:10]\n",
      "print dataMags['ACS_F814W_FLUX'][:10]\n",
      "\n",
      "print data['ACS_F814W_FLUXERR'][:10]\n",
      "print dataMags['ACS_F814W_FLUXERR'][:10]"
     ],
     "language": "python",
     "metadata": {},
     "outputs": []
    },
    {
     "cell_type": "code",
     "collapsed": false,
     "input": [],
     "language": "python",
     "metadata": {},
     "outputs": []
    }
   ],
   "metadata": {}
  }
 ]
}