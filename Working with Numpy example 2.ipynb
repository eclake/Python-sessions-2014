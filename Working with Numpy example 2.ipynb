{
 "metadata": {
  "name": "Working with Numpy example 2"
 },
 "nbformat": 3,
 "nbformat_minor": 0,
 "worksheets": [
  {
   "cells": [
    {
     "cell_type": "markdown",
     "metadata": {},
     "source": [
      "#Working with Numpy - a catalogue example"
     ]
    },
    {
     "cell_type": "markdown",
     "metadata": {},
     "source": [
      "This is the same as the previous example but now we will use functions that we have stored in a .py file."
     ]
    },
    {
     "cell_type": "code",
     "collapsed": false,
     "input": [
      "#Whenever running an ipython notebook you need to run this command either at the beginning of your notebook or from the command\n",
      "#line when you open up ipython notebook (> ipython notebook --pylab inline).\n",
      "\n",
      "%pylab inline"
     ],
     "language": "python",
     "metadata": {},
     "outputs": [
      {
       "output_type": "stream",
       "stream": "stdout",
       "text": [
        "\n",
        "Welcome to pylab, a matplotlib-based Python environment [backend: module://IPython.zmq.pylab.backend_inline].\n",
        "For more information, type 'help(pylab)'.\n"
       ]
      }
     ],
     "prompt_number": 1
    },
    {
     "cell_type": "code",
     "collapsed": false,
     "input": [
      "import numpy as np"
     ],
     "language": "python",
     "metadata": {},
     "outputs": [],
     "prompt_number": 2
    },
    {
     "cell_type": "code",
     "collapsed": false,
     "input": [
      "data=np.genfromtxt('CANDELS.GOODSS.F160W.v1_1.photom.cat', dtype=None, names=True)"
     ],
     "language": "python",
     "metadata": {},
     "outputs": [],
     "prompt_number": 3
    },
    {
     "cell_type": "markdown",
     "metadata": {},
     "source": [
      "The two conversion functions are stored in FluxMagConversions.py in the same directory.  \n",
      "\n",
      "If you wanted to store them in a different directory you can append that directory to the path using:\n",
      "\n",
      "> import sys   \n",
      "> sys.path.append(\"/Path/To/Useful/Python/Files\")  "
     ]
    },
    {
     "cell_type": "code",
     "collapsed": false,
     "input": [
      "import FluxMagConversions as fc"
     ],
     "language": "python",
     "metadata": {},
     "outputs": [],
     "prompt_number": 4
    },
    {
     "cell_type": "code",
     "collapsed": false,
     "input": [
      "import re"
     ],
     "language": "python",
     "metadata": {},
     "outputs": [],
     "prompt_number": 5
    },
    {
     "cell_type": "code",
     "collapsed": false,
     "input": [
      "dataMags=np.array(data)\n",
      "\n",
      "for name in dataMags.dtype.names:\n",
      "    match = re.search(\"FLUX\",name)\n",
      "    if match:\n",
      "        matchErr = re.search(\"ERR\",name)\n",
      "        if matchErr:\n",
      "            fluxName = name.replace(\"ERR\",\"\")\n",
      "            dataMags[name] = fc.ConvertErrMicroJyToAbMag(data[name],data[fluxName]) # now when we call the functions we need to\n",
      "                                                                                    # specify their package as fc\n",
      "        else:\n",
      "            dataMags[name] = fc.ConvertMicroJyToAbMag(data[name])\n",
      "        \n",
      "    "
     ],
     "language": "python",
     "metadata": {},
     "outputs": [],
     "prompt_number": 6
    },
    {
     "cell_type": "code",
     "collapsed": false,
     "input": [
      "print data['ACS_F814W_FLUX'][:10]\n",
      "print dataMags['ACS_F814W_FLUX'][:10]\n",
      "\n",
      "print data['ACS_F814W_FLUXERR'][:10]\n",
      "print dataMags['ACS_F814W_FLUXERR'][:10]"
     ],
     "language": "python",
     "metadata": {},
     "outputs": [
      {
       "output_type": "stream",
       "stream": "stdout",
       "text": [
        "[ 17.6684     0.120398   5.47988    0.572661   0.114363   1.1913     4.05189\n",
        "   0.101759   0.412882   0.584998]\n",
        "[ 20.82200694  26.23845182  22.09307238  24.54525598  26.29428615\n",
        "  23.74994715  22.42085588  26.42106792  24.90043513  24.52211405]\n",
        "[ 0.180936   0.0353473  0.0956989  0.122873   0.0234091  0.0587654\n",
        "  0.0957558  0.0273173  0.038471   0.0523299]\n",
        "[ 0.01113159  0.31912918  0.01898303  0.23323214  0.22249934  0.05362041\n",
        "  0.0256884   0.29180618  0.10128312  0.09723555]\n"
       ]
      }
     ],
     "prompt_number": 7
    },
    {
     "cell_type": "code",
     "collapsed": false,
     "input": [],
     "language": "python",
     "metadata": {},
     "outputs": [],
     "prompt_number": 7
    }
   ],
   "metadata": {}
  }
 ]
}