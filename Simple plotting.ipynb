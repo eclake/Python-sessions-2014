{
 "metadata": {
  "name": "Simple plotting"
 },
 "nbformat": 3,
 "nbformat_minor": 0,
 "worksheets": [
  {
   "cells": [
    {
     "cell_type": "markdown",
     "metadata": {},
     "source": [
      "#Simple plotting routine\n",
      "\n",
      "Here is a simple example that:\n",
      "\n",
      "* Uses numpy to read in data from a file\n",
      "\n",
      "* Creates a plot of the data\n",
      "\n",
      "* Saves the plot"
     ]
    },
    {
     "cell_type": "code",
     "collapsed": false,
     "input": [
      "#Whenever running an ipython notebook you need to run this command either at the beginning of your notebook or from the command\n",
      "#line when you open up ipython notebook (> ipython notebook --pylab inline).\n",
      "\n",
      "%pylab inline"
     ],
     "language": "python",
     "metadata": {},
     "outputs": []
    },
    {
     "cell_type": "markdown",
     "metadata": {},
     "source": [
      "This is taken from the example, plotting.py written by Duncan Forgan, and can be found here:\n",
      "\n",
      "https://github.com/dh4gan/basic-python-classes\n",
      "\n",
      "The example is summarised by the following header"
     ]
    },
    {
     "cell_type": "raw",
     "metadata": {},
     "source": [
      "# Written by Duncan Forgan, 24/02/14\n",
      "# Simple script to demonstrate plotting of data in files\n",
      "# This uses the numpy and matplotlib modules, which are\n",
      "# extremely popular, and basically all you need to do\n",
      "# scientific computing in Python\n",
      "\n",
      "# This code recreates the now-viral \"Internet Explorer Use vs Murder Rate\"\n",
      "# plot that has been circling the internet"
     ]
    },
    {
     "cell_type": "markdown",
     "metadata": {},
     "source": [
      "Some of the steps have been simplified to best demonstrate the workflow using ipython notebooks"
     ]
    },
    {
     "cell_type": "code",
     "collapsed": false,
     "input": [
      "import numpy as np\n",
      "import matplotlib.pyplot as plt  # the wonderful plotting module we wil be using"
     ],
     "language": "python",
     "metadata": {},
     "outputs": []
    },
    {
     "cell_type": "code",
     "collapsed": false,
     "input": [
      "data=np.genfromtxt('mydata.dat', dtype=None, names=True)"
     ],
     "language": "python",
     "metadata": {},
     "outputs": []
    },
    {
     "cell_type": "code",
     "collapsed": false,
     "input": [
      "data"
     ],
     "language": "python",
     "metadata": {},
     "outputs": []
    },
    {
     "cell_type": "markdown",
     "metadata": {},
     "source": [
      "We wil find the min and max values for the data as they will be useful later for setting plot axes limits."
     ]
    },
    {
     "cell_type": "code",
     "collapsed": false,
     "input": [
      "yearmin = np.amin(data['Year'])\n",
      "yearmax = np.amax(data['Year'])"
     ],
     "language": "python",
     "metadata": {},
     "outputs": []
    },
    {
     "cell_type": "code",
     "collapsed": false,
     "input": [
      "internetmin = np.amin(data['Internet_Explorer_Market_Share'])\n",
      "internetmax = np.amax(data['Internet_Explorer_Market_Share'])"
     ],
     "language": "python",
     "metadata": {},
     "outputs": []
    },
    {
     "cell_type": "code",
     "collapsed": false,
     "input": [
      "murdermin = np.amin(data['US_Murder_Rate'])\n",
      "murdermax = np.amax(data['US_Murder_Rate'])"
     ],
     "language": "python",
     "metadata": {},
     "outputs": []
    },
    {
     "cell_type": "code",
     "collapsed": false,
     "input": [
      "data.dtype.names[0]"
     ],
     "language": "python",
     "metadata": {},
     "outputs": []
    },
    {
     "cell_type": "markdown",
     "metadata": {},
     "source": [
      "Let's plot a simple line graph of the Internet Explorer Market Share as a function of year."
     ]
    },
    {
     "cell_type": "code",
     "collapsed": false,
     "input": [
      "figure()\n",
      "\n",
      "plt.suptitle(\"Internet Explorer Use vs US Murder Rate\", fontsize=12)\n",
      "plt.plot(data['Year'], data['Internet_Explorer_Market_Share'])\n",
      "\n",
      "plt.xlabel('Year', fontsize=12)\n",
      "plt.ylabel('Internet Explorer Market Share', fontsize=12)\n",
      "\n",
      "# you can change the limits on the axes by working with the axis object\n",
      "ax = plt.gca() # gca means 'get current axes'\n",
      "ax.set_ylim(internetmin,internetmax)\n"
     ],
     "language": "python",
     "metadata": {},
     "outputs": []
    },
    {
     "cell_type": "markdown",
     "metadata": {},
     "source": [
      "Now, what if you wanted to include two different things on the plot, with the left y-axis corresponding to one aspect of the plot, and the right y-axis corresponding to the other data plotted.  You would define two sets of axes and you now have to specify which axis object you are plotting to.\n",
      "\n",
      "In this example we'll add information about the murder rate with the right-hand y-axis."
     ]
    },
    {
     "cell_type": "code",
     "collapsed": false,
     "input": [
      "figure()\n",
      "\n",
      "# We will use supbplots to do this, and define a main plot object (fig) and the first axis abject (ax1)\n",
      "fig, ax1 = plt.subplots()\n",
      "\n",
      "# Define a different set of axes for the second set of data\n",
      "ax2 = ax1.twinx() # They are both plotted against the same x-variable.\n",
      "\n",
      "fig.suptitle(\"Internet Explorer Use vs US Murder Rate\", fontsize=12)\n",
      "ax1.plot(data['Year'], data['Internet_Explorer_Market_Share'], label=\"Internet Market Share\") # The label will be used later in a legend\n",
      "ax1.scatter(data['Year'], data['Internet_Explorer_Market_Share'])\n",
      "# The following command stops the default axis behaviour of setting the ticklabels as offsets if \n",
      "# the difference between the minimum and maximum values are much smaller than the starting value.\n",
      "# i.e. it gets the plot to label the years sensibly.\n",
      "ax1.xaxis.get_major_formatter().set_useOffset(False)\n",
      "\n",
      "ax1.set_xlabel('Year', fontsize=12)\n",
      "# where as previously we used plt.xlabel() to set the x-label, we are plotting to separate\n",
      "# axes now, so we need to work from the axes objects, not the main plot object.\n",
      "ax1.set_ylabel('Internet Explorer Market Share', fontsize=12)\n",
      "ax1.set_xlim(yearmin,yearmax)\n",
      "\n",
      "ax2.bar(data['Year'], data['US_Murder_Rate'], facecolor='blue', alpha=0.1,  label=\"Murder Rate\")\n",
      "ax2.set_ylabel('US Murder Rate', fontsize=12)\n",
      "ax2.set_ylim(murdermin, murdermax)\n",
      "\n",
      "# In this particular example the legend is a little trickier than it usually is as I've placed the \n",
      "# items manually, this is a little bit of a non-standard use of legend() - to read more go\n",
      "# here: http://matplotlib.org/users/legend_guide.html\n",
      "ax1.legend(loc=(0.4,0.85), frameon=0)\n",
      "ax2.legend(loc=(0.4,0.75), frameon=0)\n",
      "\n",
      "\n",
      "#fig.savefig('myPlot.ps') # works fine when no second axis but the right-hand y-axis gets cutoff\n",
      "\n",
      "#c hange positions of axes plot wrt to plot area when saving a pdf\n",
      "plt.gcf().subplots_adjust(right=0.8)\n",
      "fig.savefig('myPlot.pdf')\n",
      "\n",
      "#or save as .png\n",
      "fig.savefig('myPlot.png',dpi=100,bbox_inches='tight',pad_inches=0.2)"
     ],
     "language": "python",
     "metadata": {},
     "outputs": []
    },
    {
     "cell_type": "markdown",
     "metadata": {},
     "source": [
      "NOTE: If you haven't worked with subplots but just added different sub-samples to the same plot using label in each plot call,  \n",
      "> legend()  \n",
      "\n",
      "on it's own is all you need to give you a nice legend on your plot!"
     ]
    },
    {
     "cell_type": "code",
     "collapsed": false,
     "input": [],
     "language": "python",
     "metadata": {},
     "outputs": []
    }
   ],
   "metadata": {}
  }
 ]
}