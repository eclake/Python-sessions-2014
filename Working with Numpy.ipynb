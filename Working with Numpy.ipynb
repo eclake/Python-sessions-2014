{
 "metadata": {
  "name": "Working with Numpy"
 },
 "nbformat": 3,
 "nbformat_minor": 0,
 "worksheets": [
  {
   "cells": [
    {
     "cell_type": "markdown",
     "metadata": {},
     "source": [
      "#Working with Numpy - a catalogue example"
     ]
    },
    {
     "cell_type": "markdown",
     "metadata": {},
     "source": [
      "In this example we will read in a catalogue containing photometry in multiple bands, convert the fluxes from micro Janskys to AB magnitude, and then write the catalogue to a new file.\n",
      "\n",
      "Specifically this example shows how to:\n",
      "\n",
      "* Define functions\n",
      "* Read in files in ascii format\n",
      "* Write ouput to a file\n",
      "* Work efficiently with Numpy arrays\n",
      "* Pickle"
     ]
    },
    {
     "cell_type": "code",
     "collapsed": false,
     "input": [
      "#Whenever running an ipython notebook you need to run this command either at the beginning of your notebook or from the command\n",
      "#line when you open up ipython notebook (> ipython notebook --pylab inline).\n",
      "\n",
      "%pylab inline"
     ],
     "language": "python",
     "metadata": {},
     "outputs": [
      {
       "output_type": "stream",
       "stream": "stdout",
       "text": [
        "\n",
        "Welcome to pylab, a matplotlib-based Python environment [backend: module://IPython.zmq.pylab.backend_inline].\n",
        "For more information, type 'help(pylab)'.\n"
       ]
      }
     ],
     "prompt_number": 1
    },
    {
     "cell_type": "markdown",
     "metadata": {},
     "source": [
      "We start by importing numpy"
     ]
    },
    {
     "cell_type": "code",
     "collapsed": false,
     "input": [
      "import numpy as np"
     ],
     "language": "python",
     "metadata": {},
     "outputs": [],
     "prompt_number": 2
    },
    {
     "cell_type": "markdown",
     "metadata": {},
     "source": [
      "Then we are going to read in an ascii file containing data in columns.  This is by far the best way I know of to read in this kind of data and it works best when you have a header line in the file.  The first couple of lines in the file we will read in look like this:\n",
      "\n",
      "\\# ID IAU_Name RA DEC F160W_LIMITING_MAGNITUDE FLAGS CLASS_STAR CTIO_U_FLUX CTIO_U_FLUXERR CTIO_U_WEIGHT ...   \n",
      "1  CANDELS_GDS_F160W_J033222.31-275716.3  53.0929957 -27.9545375  27.85   0  0.030   9.05690E-01   2.75618E-02   1.10280E+05   ...   \n",
      "2  CANDELS_GDS_F160W_J033224.69-275734.7  53.1028883 -27.9596622  26.34   0  0.510   2.62016E-01   1.54540E-02   1.04895E+05   ...   \n",
      "\n",
      "The fluxes and errors are stored in micro Janskys in this file."
     ]
    },
    {
     "cell_type": "code",
     "collapsed": false,
     "input": [
      "#dtype=None - not specifying the data types of each column when reading it in - python guesses\n",
      "#names=True - there is a header line starting with a # which contains the names for each column\n",
      "data=np.genfromtxt('CANDELS.GOODSS.F160W.v1_1.photom.cat', dtype=None, names=True)  "
     ],
     "language": "python",
     "metadata": {},
     "outputs": [],
     "prompt_number": 3
    },
    {
     "cell_type": "markdown",
     "metadata": {},
     "source": [
      "Data is now a special kind of numpy array that allows you to access different columns using the column name."
     ]
    },
    {
     "cell_type": "code",
     "collapsed": false,
     "input": [
      "#print out the names of all the columns\n",
      "data.dtype.names"
     ],
     "language": "python",
     "metadata": {},
     "outputs": [
      {
       "output_type": "pyout",
       "prompt_number": 4,
       "text": [
        "('ID',\n",
        " 'IAU_Name',\n",
        " 'RA',\n",
        " 'DEC',\n",
        " 'F160W_LIMITING_MAGNITUDE',\n",
        " 'FLAGS',\n",
        " 'CLASS_STAR',\n",
        " 'CTIO_U_FLUX',\n",
        " 'CTIO_U_FLUXERR',\n",
        " 'CTIO_U_WEIGHT',\n",
        " 'VIMOS_U_FLUX',\n",
        " 'VIMOS_U_FLUXERR',\n",
        " 'VIMOS_U_WEIGHT',\n",
        " 'ACS_F435W_FLUX',\n",
        " 'ACS_F435W_FLUXERR',\n",
        " 'ACS_F435W_WEIGHT',\n",
        " 'ACS_F606W_FLUX',\n",
        " 'ACS_F606W_FLUXERR',\n",
        " 'ACS_F606W_WEIGHT',\n",
        " 'ACS_F775W_FLUX',\n",
        " 'ACS_F775W_FLUXERR',\n",
        " 'ACS_F775W_WEIGHT',\n",
        " 'ACS_F814W_FLUX',\n",
        " 'ACS_F814W_FLUXERR',\n",
        " 'ACS_F814W_WEIGHT',\n",
        " 'ACS_F850LP_FLUX',\n",
        " 'ACS_F850LP_FLUXERR',\n",
        " 'ACS_F850LP_WEIGHT',\n",
        " 'WFC3_F098M_FLUX',\n",
        " 'WFC3_F098M_FLUXERR',\n",
        " 'WFC3_F098M_WEIGHT',\n",
        " 'WFC3_F105W_FLUX',\n",
        " 'WFC3_F105W_FLUXERR',\n",
        " 'WFC3_F105W_WEIGHT',\n",
        " 'WFC3_F125W_FLUX',\n",
        " 'WFC3_F125W_FLUXERR',\n",
        " 'WFC3_F125W_WEIGHT',\n",
        " 'WFC3_F160W_FLUX',\n",
        " 'WFC3_F160W_FLUXERR',\n",
        " 'WFC3_F160W_WEIGHT',\n",
        " 'ISAAC_KS_FLUX',\n",
        " 'ISAAC_KS_FLUXERR',\n",
        " 'ISAAC_KS_WEIGHT',\n",
        " 'HAWKI_KS_FLUX',\n",
        " 'HAWKI_KS_FLUXERR',\n",
        " 'HAWKI_KS_WEIGHT',\n",
        " 'IRAC_CH1_FLUX',\n",
        " 'IRAC_CH1_FLUXERR',\n",
        " 'IRAC_CH1_WEIGHT',\n",
        " 'IRAC_CH2_FLUX',\n",
        " 'IRAC_CH2_FLUXERR',\n",
        " 'IRAC_CH2_WEIGHT',\n",
        " 'IRAC_CH3_FLUX',\n",
        " 'IRAC_CH3_FLUXERR',\n",
        " 'IRAC_CH3_WEIGHT',\n",
        " 'IRAC_CH4_FLUX',\n",
        " 'IRAC_CH4_FLUXERR',\n",
        " 'IRAC_CH4_WEIGHT',\n",
        " 'FLUX_ISO',\n",
        " 'FLUXERR_ISO',\n",
        " 'FLUX_AUTO',\n",
        " 'FLUXERR_AUTO',\n",
        " 'FWHM_IMAGE',\n",
        " 'A_IMAGE',\n",
        " 'B_IMAGE',\n",
        " 'KRON_RADIUS',\n",
        " 'FLUX_RADIUS_1',\n",
        " 'FLUX_RADIUS_2',\n",
        " 'FLUX_RADIUS_3',\n",
        " 'THETA_IMAGE',\n",
        " 'APCORR',\n",
        " 'HOT_FLAG',\n",
        " 'ISOAREAF_IMAGE')"
       ]
      }
     ],
     "prompt_number": 4
    },
    {
     "cell_type": "markdown",
     "metadata": {},
     "source": [
      "We are going to define a couple of functions that we will use to convert the fluxes and errors to AB magnitudes.\n",
      "\n",
      "Functions can be defined anywhere as long as it is before you first use them."
     ]
    },
    {
     "cell_type": "code",
     "collapsed": false,
     "input": [
      "def ConvertMicroJyToAbMag(flux):\n",
      "    flux = flux * 1.E-23 * 1.E-6 # to erg/s/cm2/Hz\n",
      "    mag = (-2.5) * np.log10(flux) - 48.56\n",
      "    return mag\n",
      "\n",
      "def ConvertErrMicroJyToAbMag(fluxerr,flux):\n",
      "    magerr = 1.087 * fluxerr / flux\n",
      "    return magerr"
     ],
     "language": "python",
     "metadata": {},
     "outputs": [],
     "prompt_number": 5
    },
    {
     "cell_type": "markdown",
     "metadata": {},
     "source": [
      "If you want to return more than one variable, return them as a tuple or a dict."
     ]
    },
    {
     "cell_type": "code",
     "collapsed": false,
     "input": [
      "def ConvertFluxAndErr(flux, fluxerr):\n",
      "    flux = flux * 1.E-23 * 1.E-6 # to erg/s/cm2/Hz\n",
      "    mag = (-2.5) * np.log10(flux) - 48.56\n",
      "    magerr = 1.087 * fluxerr / flux\n",
      "    return mag,magerr  # here we return both mag and magerr as a tuple - note you do not need the parenthesis to define a tuple"
     ],
     "language": "python",
     "metadata": {},
     "outputs": [],
     "prompt_number": 6
    },
    {
     "cell_type": "markdown",
     "metadata": {},
     "source": [
      "We are going to search through each of the columns and if the column contains a flux or a flux error it will be converted.  To do this we will use the fact that the column names are conveniently labelled FLUX and FLUXERR so we will search for these strings in the column names using the package re (allows for regular expression sorting - read more here https://docs.python.org/2/library/re.html)"
     ]
    },
    {
     "cell_type": "code",
     "collapsed": false,
     "input": [
      "import re"
     ],
     "language": "python",
     "metadata": {},
     "outputs": [],
     "prompt_number": 7
    },
    {
     "cell_type": "markdown",
     "metadata": {},
     "source": [
      "With the following segment of code, note that we can send full columns to the functions defined above, we don't need to loop through each of the values individually.  This is because numpy arrays effectively know that the '*' operator, say, will multiply individual elements of two arrays if they have the same dimensions:\n",
      "\n",
      "A - array   \n",
      "a - float   \n",
      "L - list with multiple entries (all floats)   \n",
      "\n",
      "a * a means multiply a by a   \n",
      "A * A means [A[0] * A[0], A[1] * A[1], A[2] * A[2], \u2026] and an array of the same dimensions as A will be returned   \n",
      "L * L doesn't do anything - it will return an error.\n",
      "\n",
      "NOTE: It is much more efficient working on large data sets with numpy arrays in this manner.  DO NOT loop through individual elements of an array.\n"
     ]
    },
    {
     "cell_type": "code",
     "collapsed": false,
     "input": [
      "dataMags=np.array(data)\n",
      "\n",
      "for name in dataMags.dtype.names:\n",
      "    # if \"FLUX\" is in the column name then we will need to convert it - it will either be a flux or an error on the flux\n",
      "    match = re.search(\"FLUX\",name)\n",
      "    \n",
      "    if match:\n",
      "        matchErr = re.search(\"ERR\",name)\n",
      "        \n",
      "        if matchErr:\n",
      "            # if the column contains a flux error we also need to pass the corresponding flux to calculate the errors in magnitudes\n",
      "            # to find the name of the corresponding flux column, we just need to remove \"ERR\"\n",
      "            fluxName = name.replace(\"ERR\",\"\") # name is a string, and replace() is a function defined for the string object\n",
      "            dataMags[name] = ConvertErrMicroJyToAbMag(data[name],data[fluxName])\n",
      "            \n",
      "        else:\n",
      "            dataMags[name] = ConvertMicroJyToAbMag(data[name])\n",
      "        \n",
      "    "
     ],
     "language": "python",
     "metadata": {},
     "outputs": [
      {
       "output_type": "stream",
       "stream": "stderr",
       "text": [
        "-c:3: RuntimeWarning: invalid value encountered in log10\n",
        "-c:3: RuntimeWarning: divide by zero encountered in log10\n",
        "-c:7: RuntimeWarning: divide by zero encountered in divide\n"
       ]
      }
     ],
     "prompt_number": 8
    },
    {
     "cell_type": "code",
     "collapsed": false,
     "input": [
      "print data['ACS_F814W_FLUX'][:10]\n",
      "print dataMags['ACS_F814W_FLUX'][:10]\n",
      "\n",
      "print data['ACS_F814W_FLUXERR'][:10]\n",
      "print dataMags['ACS_F814W_FLUXERR'][:10]"
     ],
     "language": "python",
     "metadata": {},
     "outputs": [
      {
       "output_type": "stream",
       "stream": "stdout",
       "text": [
        "[ 17.6684     0.120398   5.47988    0.572661   0.114363   1.1913     4.05189\n",
        "   0.101759   0.412882   0.584998]\n",
        "[ 20.82200694  26.23845182  22.09307238  24.54525598  26.29428615\n",
        "  23.74994715  22.42085588  26.42106792  24.90043513  24.52211405]\n",
        "[ 0.180936   0.0353473  0.0956989  0.122873   0.0234091  0.0587654\n",
        "  0.0957558  0.0273173  0.038471   0.0523299]\n",
        "[ 0.01113159  0.31912918  0.01898303  0.23323214  0.22249934  0.05362041\n",
        "  0.0256884   0.29180618  0.10128312  0.09723555]\n"
       ]
      }
     ],
     "prompt_number": 9
    },
    {
     "cell_type": "markdown",
     "metadata": {},
     "source": [
      "Running with the originally defined fuctions leads to an error because sometimes we are dividing by 0 and sometimes we are trying to take the logarithm of a negative number.  We will look at improving this now."
     ]
    },
    {
     "cell_type": "code",
     "collapsed": false,
     "input": [
      "def ConvertMicroJyToAbMag(flux):\n",
      "    flux = flux * 1.E-23 * 1.E-6 # to erg/s/cm2/Hz\n",
      "    if flux < 0:\n",
      "        mag = (-2.5) * np.log10(flux) - 48.56\n",
      "    else:\n",
      "        mag = -1\n",
      "    return mag\n",
      "\n",
      "def ConvertErrMicroJyToAbMag(fluxerr,flux):\n",
      "    if flux != 0:\n",
      "        magerr = 1.087 * fluxerr / flux\n",
      "    else:\n",
      "        magerr=-1\n",
      "    return magerr"
     ],
     "language": "python",
     "metadata": {},
     "outputs": [],
     "prompt_number": 10
    },
    {
     "cell_type": "code",
     "collapsed": false,
     "input": [
      "dataMags=np.array(data)\n",
      "\n",
      "for name in dataMags.dtype.names:\n",
      "    match = re.search(\"FLUX\",name)\n",
      "    if match:\n",
      "        matchErr = re.search(\"ERR\",name)\n",
      "        if matchErr:\n",
      "            fluxName = name.replace(\"ERR\",\"\")\n",
      "            dataMags[name] = ConvertErrMicroJyToAbMag(data[name],data[fluxName])\n",
      "        else:\n",
      "            dataMags[name] = ConvertMicroJyToAbMag(data[name])\n",
      "        \n",
      "    "
     ],
     "language": "python",
     "metadata": {},
     "outputs": [
      {
       "ename": "ValueError",
       "evalue": "The truth value of an array with more than one element is ambiguous. Use a.any() or a.all()",
       "output_type": "pyerr",
       "traceback": [
        "\u001b[0;31m---------------------------------------------------------------------------\u001b[0m\n\u001b[0;31mValueError\u001b[0m                                Traceback (most recent call last)",
        "\u001b[0;32m<ipython-input-11-294471b0f258>\u001b[0m in \u001b[0;36m<module>\u001b[0;34m()\u001b[0m\n\u001b[1;32m      9\u001b[0m             \u001b[0mdataMags\u001b[0m\u001b[0;34m[\u001b[0m\u001b[0mname\u001b[0m\u001b[0;34m]\u001b[0m \u001b[0;34m=\u001b[0m \u001b[0mConvertErrMicroJyToAbMag\u001b[0m\u001b[0;34m(\u001b[0m\u001b[0mdata\u001b[0m\u001b[0;34m[\u001b[0m\u001b[0mname\u001b[0m\u001b[0;34m]\u001b[0m\u001b[0;34m,\u001b[0m\u001b[0mdata\u001b[0m\u001b[0;34m[\u001b[0m\u001b[0mfluxName\u001b[0m\u001b[0;34m]\u001b[0m\u001b[0;34m)\u001b[0m\u001b[0;34m\u001b[0m\u001b[0m\n\u001b[1;32m     10\u001b[0m         \u001b[0;32melse\u001b[0m\u001b[0;34m:\u001b[0m\u001b[0;34m\u001b[0m\u001b[0m\n\u001b[0;32m---> 11\u001b[0;31m             \u001b[0mdataMags\u001b[0m\u001b[0;34m[\u001b[0m\u001b[0mname\u001b[0m\u001b[0;34m]\u001b[0m \u001b[0;34m=\u001b[0m \u001b[0mConvertMicroJyToAbMag\u001b[0m\u001b[0;34m(\u001b[0m\u001b[0mdata\u001b[0m\u001b[0;34m[\u001b[0m\u001b[0mname\u001b[0m\u001b[0;34m]\u001b[0m\u001b[0;34m)\u001b[0m\u001b[0;34m\u001b[0m\u001b[0m\n\u001b[0m\u001b[1;32m     12\u001b[0m \u001b[0;34m\u001b[0m\u001b[0m\n\u001b[1;32m     13\u001b[0m \u001b[0;34m\u001b[0m\u001b[0m\n",
        "\u001b[0;32m<ipython-input-10-1eb0974b1dfe>\u001b[0m in \u001b[0;36mConvertMicroJyToAbMag\u001b[0;34m(flux)\u001b[0m\n\u001b[1;32m      1\u001b[0m \u001b[0;32mdef\u001b[0m \u001b[0mConvertMicroJyToAbMag\u001b[0m\u001b[0;34m(\u001b[0m\u001b[0mflux\u001b[0m\u001b[0;34m)\u001b[0m\u001b[0;34m:\u001b[0m\u001b[0;34m\u001b[0m\u001b[0m\n\u001b[1;32m      2\u001b[0m     \u001b[0mflux\u001b[0m \u001b[0;34m=\u001b[0m \u001b[0mflux\u001b[0m \u001b[0;34m*\u001b[0m \u001b[0;36m1.E-23\u001b[0m \u001b[0;34m*\u001b[0m \u001b[0;36m1.E-6\u001b[0m \u001b[0;31m# to erg/s/cm2/Hz\u001b[0m\u001b[0;34m\u001b[0m\u001b[0m\n\u001b[0;32m----> 3\u001b[0;31m     \u001b[0;32mif\u001b[0m \u001b[0mflux\u001b[0m \u001b[0;34m<\u001b[0m \u001b[0;36m0\u001b[0m\u001b[0;34m:\u001b[0m\u001b[0;34m\u001b[0m\u001b[0m\n\u001b[0m\u001b[1;32m      4\u001b[0m         \u001b[0mmag\u001b[0m \u001b[0;34m=\u001b[0m \u001b[0;34m(\u001b[0m\u001b[0;34m-\u001b[0m\u001b[0;36m2.5\u001b[0m\u001b[0;34m)\u001b[0m \u001b[0;34m*\u001b[0m \u001b[0mnp\u001b[0m\u001b[0;34m.\u001b[0m\u001b[0mlog10\u001b[0m\u001b[0;34m(\u001b[0m\u001b[0mflux\u001b[0m\u001b[0;34m)\u001b[0m \u001b[0;34m-\u001b[0m \u001b[0;36m48.56\u001b[0m\u001b[0;34m\u001b[0m\u001b[0m\n\u001b[1;32m      5\u001b[0m     \u001b[0;32melse\u001b[0m\u001b[0;34m:\u001b[0m\u001b[0;34m\u001b[0m\u001b[0m\n",
        "\u001b[0;31mValueError\u001b[0m: The truth value of an array with more than one element is ambiguous. Use a.any() or a.all()"
       ]
      }
     ],
     "prompt_number": 11
    },
    {
     "cell_type": "markdown",
     "metadata": {},
     "source": [
      "Using the above functions doesn't work because now we are using if statements that are expecting a single value, rather than an array of values.  This function would now have to be used by looping though individual elements, but we definitely don't want to do this so let's look at an alternative:"
     ]
    },
    {
     "cell_type": "code",
     "collapsed": false,
     "input": [
      "def ConvertMicroJyToAbMag(flux):\n",
      "\n",
      "    # We can first of all test whether the input is an array\n",
      "    \n",
      "    # This statement tests whether flux has more than one element (I figured out how to do this by googling\n",
      "    # \"testing for an array\"\n",
      "    if hasattr(flux, '__len__'):\n",
      "        \n",
      "        #If the data type we passed in isn't a numpy array then we will make it into one now\n",
      "        if (type(flux) != numpy.ndarray):\n",
      "            flux = np.array(flux)\n",
      "            \n",
      "        flux = flux * 1.E-23 * 1.E-6 # to erg/s/cm2/Hz\n",
      "        positiveIdx = np.where(flux > 0) # We will find out where the flux is positive, and can hence take\n",
      "                                         # the logarithm safely.\n",
      "        mag = np.array(flux) * 0. - 1    # Every value that is not replaced will be -1\n",
      "        mag[positiveIdx] = (-2.5) * np.log10(flux[positiveIdx]) - 48.56\n",
      "    else:\n",
      "        # if flux is only one value then we can test that single value\n",
      "        if flux > 0:\n",
      "            mag = (-2.5) * np.log10(flux) - 48.56\n",
      "        else:\n",
      "            mag = -1\n",
      "        \n",
      "    return mag\n",
      "\n",
      "def ConvertErrMicroJyToAbMag(fluxerr,flux):\n",
      "    \n",
      "    if hasattr(flux, '__len__'):\n",
      "        if (type(flux) != np.ndarray):\n",
      "            flux = np.array(flux)\n",
      "            \n",
      "        if hasattr(fluxerr, '__len__'):\n",
      "            if (type(fluxerr) != np.ndarray):\n",
      "                fluxerr = np.array(fluxerr)\n",
      "                \n",
      "        if (len(flux) != len(fluxerr)):\n",
      "            return -1\n",
      "        \n",
      "        okIdx = np.where(flux != 0)\n",
      "        magerr = np.array(flux) * 0. -1.\n",
      "        magerr[okIdx] = 1.087 * fluxerr[okIdx] / flux[okIdx]\n",
      "    else:     \n",
      "        if (flux != 0):\n",
      "            magerr = 1.087 * fluxerr / flux\n",
      "        else:\n",
      "            magerr = -1\n",
      "            \n",
      "    return magerr"
     ],
     "language": "python",
     "metadata": {},
     "outputs": []
    },
    {
     "cell_type": "code",
     "collapsed": false,
     "input": [
      "dataMags=np.array(data)\n",
      "\n",
      "for name in dataMags.dtype.names:\n",
      "    match = re.search(\"FLUX\",name)\n",
      "    if match:\n",
      "        matchErr = re.search(\"ERR\",name)\n",
      "        if matchErr:\n",
      "            fluxName = name.replace(\"ERR\",\"\")\n",
      "            dataMags[name] = ConvertErrMicroJyToAbMag(data[name],data[fluxName])\n",
      "        else:\n",
      "            dataMags[name] = ConvertMicroJyToAbMag(data[name])\n",
      "        \n",
      "    "
     ],
     "language": "python",
     "metadata": {},
     "outputs": []
    },
    {
     "cell_type": "code",
     "collapsed": false,
     "input": [
      "f = open('catalogMags.cat','w') # 'w' - opening the file to write to it\n",
      "\n",
      "# Making a header line first\n",
      "outputStr = \"#\"\n",
      "for name in dataMags.dtype.names:\n",
      "    outputStr = outputStr + name + \" \"\n",
      "    \n",
      "f.write(outputStr + \"\\n\") # \\n gives a new line\n",
      "\n",
      "\n",
      "for i in range(len(dataMags['ID'])):\n",
      "    outputStr = \"\"\n",
      "    for name in dataMags.dtype.names:\n",
      "        outputStr = outputStr + str(dataMags[name][i]) + \" \"\n",
      "    f.write(outputStr + \"\\n\")\n",
      "    \n",
      "f.close()"
     ],
     "language": "python",
     "metadata": {},
     "outputs": []
    },
    {
     "cell_type": "markdown",
     "metadata": {},
     "source": [
      "Another really useful tool is pickle - with this you can save data structures (numpy arrays, dicts, tuples etc) in their present form."
     ]
    },
    {
     "cell_type": "code",
     "collapsed": false,
     "input": [
      "import pickle\n",
      "\n",
      "f = open('pickledArray.p', 'w')\n",
      "pickle.dump(dataMags, f)\n",
      "f.close()\n",
      "\n",
      "myArr=pickle.load(open('pickledArray.p','r'))\n",
      "\n",
      "print myArr.dtype.names"
     ],
     "language": "python",
     "metadata": {},
     "outputs": []
    },
    {
     "cell_type": "code",
     "collapsed": false,
     "input": [],
     "language": "python",
     "metadata": {},
     "outputs": []
    }
   ],
   "metadata": {}
  }
 ]
}